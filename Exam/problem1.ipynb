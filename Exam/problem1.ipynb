{
  "nbformat": 4,
  "nbformat_minor": 0,
  "metadata": {
    "colab": {
      "name": "problem1.ipynb",
      "provenance": [],
      "collapsed_sections": []
    },
    "kernelspec": {
      "name": "python3",
      "display_name": "Python 3"
    },
    "language_info": {
      "name": "python"
    }
  },
  "cells": [
    {
      "cell_type": "code",
      "source": [
        "#  funtion define\n",
        "def uniqueTypeCounter(employees,files):\n",
        "  type_list=[]\n",
        "  for i in range(len(employees)):\n",
        "    for j in range(len(files)):\n",
        "      if employees[i][0] == files[j][0] or employees[i][1] == files[j][0]:\n",
        "        type_list.append(files[j][1])\n",
        "        \n",
        "  n = len(set(type_list))\n",
        "  return n\n",
        "\n",
        "# initialization of the Parameteter \n",
        "employees = [['1','Alice'],['2','John'],['3','Jane'],['4','Alice'],['5','Bob']]\n",
        "files = [['100','jpeg'],['Alice','png'],['3','jpg'],['1','jpg'],['John','jpeg']]\n",
        "#  calling the funtion\n",
        "print(uniqueTypeCounter(employees,files))"
      ],
      "metadata": {
        "colab": {
          "base_uri": "https://localhost:8080/"
        },
        "id": "AzsT9Saetpet",
        "outputId": "0b7bfb61-ddc0-4a1b-c5ef-b7cfe5bd507f"
      },
      "execution_count": 5,
      "outputs": [
        {
          "output_type": "stream",
          "name": "stdout",
          "text": [
            "3\n"
          ]
        }
      ]
    },
    {
      "cell_type": "code",
      "source": [
        ""
      ],
      "metadata": {
        "id": "Xo62vQ492avK"
      },
      "execution_count": null,
      "outputs": []
    }
  ]
}